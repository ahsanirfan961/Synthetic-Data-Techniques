{
 "cells": [
  {
   "cell_type": "code",
   "execution_count": 1,
   "metadata": {},
   "outputs": [],
   "source": [
    "from pydantic import Field\n",
    "from distilabel.steps import Step, StepInput\n",
    "from distilabel.steps.typing import StepOutput\n",
    "from typing import List\n",
    "from distilabel.pipeline import Pipeline\n",
    "from distilabel.steps import LoadDataFromHub, KeepColumns, LoadDataFromDicts\n",
    "from distilabel.steps.tasks import TextGeneration\n",
    "from distilabel.llms import TransformersLLM\n",
    "import pandas as pd\n",
    "import random"
   ]
  },
  {
   "cell_type": "code",
   "execution_count": null,
   "metadata": {},
   "outputs": [],
   "source": [
    "class SelectRandomValues(Step):\n",
    "\n",
    "    @property\n",
    "    def inputs(self) -> List[str]:\n",
    "        # Specify the input fields expected by this step\n",
    "        return ['noun', 'adjective', 'verb']\n",
    "\n",
    "    @property\n",
    "    def outputs(self) -> List[str]:\n",
    "        # Specify the output fields that this step will produce\n",
    "        return ['noun', 'adjective', 'verb']\n",
    "\n",
    "    def process(self, inputs: StepInput) -> StepOutput:\n",
    "        \n",
    "        input_data = pd.DataFrame(inputs).to_dict(orient='list')\n",
    "        yield [{\n",
    "            \"noun\": random.choice(input_data['noun']),\n",
    "            \"adjective\": random.choice(input_data['adjective']),\n",
    "            \"verb\": random.choice(input_data['verb'])\n",
    "        }]"
   ]
  },
  {
   "cell_type": "code",
   "execution_count": 2,
   "metadata": {},
   "outputs": [],
   "source": [
    "class GeneratePrompts(Step):\n",
    "    \n",
    "    template: str = Field(..., description=\"The template to use for generating prompts.\")\n",
    "\n",
    "    @property\n",
    "    def inputs(self) -> List[str]:\n",
    "        # Specify the input fields expected by this step\n",
    "        return []\n",
    "\n",
    "    @property\n",
    "    def outputs(self) -> List[str]:\n",
    "        # Specify the output fields that this step will produce\n",
    "        return ['instruction']\n",
    "\n",
    "    def process(self, inputs: StepInput) -> StepOutput:\n",
    "\n",
    "        for example in inputs:\n",
    "            example['instruction'] = self.template\n",
    "            for value in example.keys():\n",
    "                example['instruction'] = example['instruction'].replace(f'{{value}}', example[value])\n",
    "\n",
    "        yield inputs"
   ]
  },
  {
   "cell_type": "code",
   "execution_count": 3,
   "metadata": {},
   "outputs": [],
   "source": [
    "with Pipeline(name='tiny-stories-pipeline') as tiny_pipeline:\n",
    "    load_data_from_hub = LoadDataFromHub(\n",
    "        name='load-data-from-hub',\n",
    "    )\n",
    "\n",
    "    select_random_values = SelectRandomValues(\n",
    "        name='select-random-values'\n",
    "    )\n",
    "\n",
    "    generate_prompts = GeneratePrompts(\n",
    "        name='generate-prompts',\n",
    "        template=\"\"\"\n",
    "            Write a short story (3-5 paragraphs) which only uses very simple words that a 3 year old child would likely understand. The story should use the verb \"{verb}\", the noun \"{noun}\" and the adjective \"{adjective}\". The story should have the following features: the story should contain at least one dialogue, the story has a bad ending. Remember to only use simple words!\n",
    "        \"\"\"\n",
    "    )\n",
    "\n",
    "    synthesizer = TextGeneration(\n",
    "        name='story-genration',\n",
    "        llm = TransformersLLM(\n",
    "            model=\"microsoft/Phi-3.5-mini-instruct\",\n",
    "            device=\"cuda:0\",\n",
    "        ),\n",
    "        output_mappings={\"generation\": \"story\"}\n",
    "    )\n",
    "\n",
    "\n",
    "    load_data_from_hub >> select_random_values >> generate_prompts >> synthesizer\n"
   ]
  },
  {
   "cell_type": "code",
   "execution_count": null,
   "metadata": {},
   "outputs": [],
   "source": [
    "distiset = tiny_pipeline.run(\n",
    "    parameters={\n",
    "        load_data_from_hub.name: {\n",
    "            'repo_id': \"ahsanirfan961/noun-adj-verb\",\n",
    "            \"split\": \"train\"\n",
    "        },\n",
    "        # synthesizer.name: {\n",
    "        #     \"llm\": {\n",
    "        #         \"generation_kwargs\": {\n",
    "        #             \"max_new_tokens\": 1024,\n",
    "        #             \"temperature\": 0.7,\n",
    "        #         },\n",
    "        #     },\n",
    "        # }\n",
    "    },\n",
    "    use_cache=False\n",
    ")"
   ]
  },
  {
   "cell_type": "code",
   "execution_count": null,
   "metadata": {},
   "outputs": [],
   "source": [
    "print(distiset)\n",
    "print(distiset['default']['train'].to_pandas())"
   ]
  }
 ],
 "metadata": {
  "kernelspec": {
   "display_name": "Python 3",
   "language": "python",
   "name": "python3"
  },
  "language_info": {
   "codemirror_mode": {
    "name": "ipython",
    "version": 3
   },
   "file_extension": ".py",
   "mimetype": "text/x-python",
   "name": "python",
   "nbconvert_exporter": "python",
   "pygments_lexer": "ipython3",
   "version": "3.10.11"
  }
 },
 "nbformat": 4,
 "nbformat_minor": 2
}
