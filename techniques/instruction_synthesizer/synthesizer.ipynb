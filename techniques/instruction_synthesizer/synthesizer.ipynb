{
 "cells": [
  {
   "cell_type": "markdown",
   "metadata": {},
   "source": [
    "# Instruction Synthesizer Technique"
   ]
  },
  {
   "cell_type": "code",
   "execution_count": 1,
   "metadata": {},
   "outputs": [
    {
     "name": "stdout",
     "output_type": "stream",
     "text": [
      "Requirement already satisfied: distilabel>=1.0.0 in /usr/local/lib/python3.10/dist-packages (from distilabel[hf-transformers,openai]>=1.0.0) (1.3.2)\n",
      "Requirement already satisfied: datasets>=2.16.0 in /usr/local/lib/python3.10/dist-packages (from distilabel>=1.0.0->distilabel[hf-transformers,openai]>=1.0.0) (3.0.0)\n",
      "Requirement already satisfied: httpx>=0.25.2 in /usr/local/lib/python3.10/dist-packages (from distilabel>=1.0.0->distilabel[hf-transformers,openai]>=1.0.0) (0.27.2)\n",
      "Requirement already satisfied: jinja2>=3.1.2 in /usr/local/lib/python3.10/dist-packages (from distilabel>=1.0.0->distilabel[hf-transformers,openai]>=1.0.0) (3.1.2)\n",
      "Requirement already satisfied: multiprocess>=0.70 in /usr/local/lib/python3.10/dist-packages (from distilabel>=1.0.0->distilabel[hf-transformers,openai]>=1.0.0) (0.70.16)\n",
      "Requirement already satisfied: nest-asyncio>=1.6.0 in /usr/local/lib/python3.10/dist-packages (from distilabel>=1.0.0->distilabel[hf-transformers,openai]>=1.0.0) (1.6.0)\n",
      "Requirement already satisfied: networkx>=3.0 in /usr/local/lib/python3.10/dist-packages (from distilabel>=1.0.0->distilabel[hf-transformers,openai]>=1.0.0) (3.0)\n",
      "Requirement already satisfied: orjson>=3.10.0 in /usr/local/lib/python3.10/dist-packages (from distilabel>=1.0.0->distilabel[hf-transformers,openai]>=1.0.0) (3.10.7)\n",
      "Requirement already satisfied: portalocker>=2.8.2 in /usr/local/lib/python3.10/dist-packages (from distilabel>=1.0.0->distilabel[hf-transformers,openai]>=1.0.0) (2.10.1)\n",
      "Requirement already satisfied: pydantic>=2.0 in /usr/local/lib/python3.10/dist-packages (from distilabel>=1.0.0->distilabel[hf-transformers,openai]>=1.0.0) (2.9.1)\n",
      "Requirement already satisfied: rich>=13.5.0 in /usr/local/lib/python3.10/dist-packages (from distilabel>=1.0.0->distilabel[hf-transformers,openai]>=1.0.0) (13.8.1)\n",
      "Requirement already satisfied: scipy>=1.10.0 in /usr/local/lib/python3.10/dist-packages (from distilabel>=1.0.0->distilabel[hf-transformers,openai]>=1.0.0) (1.14.1)\n",
      "Requirement already satisfied: tblib>=3.0.0 in /usr/local/lib/python3.10/dist-packages (from distilabel>=1.0.0->distilabel[hf-transformers,openai]>=1.0.0) (3.0.0)\n",
      "Requirement already satisfied: typer>=0.9.0 in /usr/local/lib/python3.10/dist-packages (from distilabel>=1.0.0->distilabel[hf-transformers,openai]>=1.0.0) (0.12.5)\n",
      "Requirement already satisfied: universal-pathlib>=0.2.2 in /usr/local/lib/python3.10/dist-packages (from distilabel>=1.0.0->distilabel[hf-transformers,openai]>=1.0.0) (0.2.5)\n",
      "Requirement already satisfied: openai>=1.0.0 in /usr/local/lib/python3.10/dist-packages (from distilabel[hf-transformers,openai]>=1.0.0) (1.44.1)\n",
      "Requirement already satisfied: torch>=2.0.0 in /usr/local/lib/python3.10/dist-packages (from distilabel[hf-transformers,openai]>=1.0.0) (2.1.0+cu118)\n",
      "Requirement already satisfied: transformers>=4.34.1 in /usr/local/lib/python3.10/dist-packages (from distilabel[hf-transformers,openai]>=1.0.0) (4.44.2)\n",
      "Requirement already satisfied: filelock in /usr/local/lib/python3.10/dist-packages (from datasets>=2.16.0->distilabel>=1.0.0->distilabel[hf-transformers,openai]>=1.0.0) (3.9.0)\n",
      "Requirement already satisfied: numpy>=1.17 in /usr/local/lib/python3.10/dist-packages (from datasets>=2.16.0->distilabel>=1.0.0->distilabel[hf-transformers,openai]>=1.0.0) (1.24.1)\n",
      "Requirement already satisfied: pyarrow>=15.0.0 in /usr/local/lib/python3.10/dist-packages (from datasets>=2.16.0->distilabel>=1.0.0->distilabel[hf-transformers,openai]>=1.0.0) (17.0.0)\n",
      "Requirement already satisfied: dill<0.3.9,>=0.3.0 in /usr/local/lib/python3.10/dist-packages (from datasets>=2.16.0->distilabel>=1.0.0->distilabel[hf-transformers,openai]>=1.0.0) (0.3.8)\n",
      "Requirement already satisfied: pandas in /usr/local/lib/python3.10/dist-packages (from datasets>=2.16.0->distilabel>=1.0.0->distilabel[hf-transformers,openai]>=1.0.0) (2.2.2)\n",
      "Requirement already satisfied: requests>=2.32.2 in /usr/local/lib/python3.10/dist-packages (from datasets>=2.16.0->distilabel>=1.0.0->distilabel[hf-transformers,openai]>=1.0.0) (2.32.3)\n",
      "Requirement already satisfied: tqdm>=4.66.3 in /usr/local/lib/python3.10/dist-packages (from datasets>=2.16.0->distilabel>=1.0.0->distilabel[hf-transformers,openai]>=1.0.0) (4.66.5)\n",
      "Requirement already satisfied: xxhash in /usr/local/lib/python3.10/dist-packages (from datasets>=2.16.0->distilabel>=1.0.0->distilabel[hf-transformers,openai]>=1.0.0) (3.5.0)\n",
      "Requirement already satisfied: fsspec<=2024.6.1,>=2023.1.0 in /usr/local/lib/python3.10/dist-packages (from fsspec[http]<=2024.6.1,>=2023.1.0->datasets>=2.16.0->distilabel>=1.0.0->distilabel[hf-transformers,openai]>=1.0.0) (2024.6.1)\n",
      "Requirement already satisfied: aiohttp in /usr/local/lib/python3.10/dist-packages (from datasets>=2.16.0->distilabel>=1.0.0->distilabel[hf-transformers,openai]>=1.0.0) (3.10.5)\n",
      "Requirement already satisfied: huggingface-hub>=0.22.0 in /usr/local/lib/python3.10/dist-packages (from datasets>=2.16.0->distilabel>=1.0.0->distilabel[hf-transformers,openai]>=1.0.0) (0.24.6)\n",
      "Requirement already satisfied: packaging in /usr/local/lib/python3.10/dist-packages (from datasets>=2.16.0->distilabel>=1.0.0->distilabel[hf-transformers,openai]>=1.0.0) (23.2)\n",
      "Requirement already satisfied: pyyaml>=5.1 in /usr/local/lib/python3.10/dist-packages (from datasets>=2.16.0->distilabel>=1.0.0->distilabel[hf-transformers,openai]>=1.0.0) (6.0.1)\n",
      "Requirement already satisfied: anyio in /usr/local/lib/python3.10/dist-packages (from httpx>=0.25.2->distilabel>=1.0.0->distilabel[hf-transformers,openai]>=1.0.0) (4.0.0)\n",
      "Requirement already satisfied: certifi in /usr/local/lib/python3.10/dist-packages (from httpx>=0.25.2->distilabel>=1.0.0->distilabel[hf-transformers,openai]>=1.0.0) (2022.12.7)\n",
      "Requirement already satisfied: httpcore==1.* in /usr/local/lib/python3.10/dist-packages (from httpx>=0.25.2->distilabel>=1.0.0->distilabel[hf-transformers,openai]>=1.0.0) (1.0.5)\n",
      "Requirement already satisfied: idna in /usr/local/lib/python3.10/dist-packages (from httpx>=0.25.2->distilabel>=1.0.0->distilabel[hf-transformers,openai]>=1.0.0) (3.4)\n",
      "Requirement already satisfied: sniffio in /usr/local/lib/python3.10/dist-packages (from httpx>=0.25.2->distilabel>=1.0.0->distilabel[hf-transformers,openai]>=1.0.0) (1.3.0)\n",
      "Requirement already satisfied: h11<0.15,>=0.13 in /usr/local/lib/python3.10/dist-packages (from httpcore==1.*->httpx>=0.25.2->distilabel>=1.0.0->distilabel[hf-transformers,openai]>=1.0.0) (0.14.0)\n",
      "Requirement already satisfied: MarkupSafe>=2.0 in /usr/local/lib/python3.10/dist-packages (from jinja2>=3.1.2->distilabel>=1.0.0->distilabel[hf-transformers,openai]>=1.0.0) (2.1.2)\n",
      "Requirement already satisfied: distro<2,>=1.7.0 in /usr/lib/python3/dist-packages (from openai>=1.0.0->distilabel[hf-transformers,openai]>=1.0.0) (1.7.0)\n",
      "Requirement already satisfied: jiter<1,>=0.4.0 in /usr/local/lib/python3.10/dist-packages (from openai>=1.0.0->distilabel[hf-transformers,openai]>=1.0.0) (0.5.0)\n",
      "Requirement already satisfied: typing-extensions<5,>=4.11 in /usr/local/lib/python3.10/dist-packages (from openai>=1.0.0->distilabel[hf-transformers,openai]>=1.0.0) (4.12.2)\n",
      "Requirement already satisfied: annotated-types>=0.6.0 in /usr/local/lib/python3.10/dist-packages (from pydantic>=2.0->distilabel>=1.0.0->distilabel[hf-transformers,openai]>=1.0.0) (0.7.0)\n",
      "Requirement already satisfied: pydantic-core==2.23.3 in /usr/local/lib/python3.10/dist-packages (from pydantic>=2.0->distilabel>=1.0.0->distilabel[hf-transformers,openai]>=1.0.0) (2.23.3)\n",
      "Requirement already satisfied: markdown-it-py>=2.2.0 in /usr/local/lib/python3.10/dist-packages (from rich>=13.5.0->distilabel>=1.0.0->distilabel[hf-transformers,openai]>=1.0.0) (3.0.0)\n",
      "Requirement already satisfied: pygments<3.0.0,>=2.13.0 in /usr/local/lib/python3.10/dist-packages (from rich>=13.5.0->distilabel>=1.0.0->distilabel[hf-transformers,openai]>=1.0.0) (2.16.1)\n",
      "Requirement already satisfied: sympy in /usr/local/lib/python3.10/dist-packages (from torch>=2.0.0->distilabel[hf-transformers,openai]>=1.0.0) (1.12)\n",
      "Requirement already satisfied: triton==2.1.0 in /usr/local/lib/python3.10/dist-packages (from torch>=2.0.0->distilabel[hf-transformers,openai]>=1.0.0) (2.1.0)\n",
      "Requirement already satisfied: regex!=2019.12.17 in /usr/local/lib/python3.10/dist-packages (from transformers>=4.34.1->distilabel[hf-transformers,openai]>=1.0.0) (2024.7.24)\n",
      "Requirement already satisfied: safetensors>=0.4.1 in /usr/local/lib/python3.10/dist-packages (from transformers>=4.34.1->distilabel[hf-transformers,openai]>=1.0.0) (0.4.5)\n",
      "Requirement already satisfied: tokenizers<0.20,>=0.19 in /usr/local/lib/python3.10/dist-packages (from transformers>=4.34.1->distilabel[hf-transformers,openai]>=1.0.0) (0.19.1)\n",
      "Requirement already satisfied: click>=8.0.0 in /usr/local/lib/python3.10/dist-packages (from typer>=0.9.0->distilabel>=1.0.0->distilabel[hf-transformers,openai]>=1.0.0) (8.1.7)\n",
      "Requirement already satisfied: shellingham>=1.3.0 in /usr/local/lib/python3.10/dist-packages (from typer>=0.9.0->distilabel>=1.0.0->distilabel[hf-transformers,openai]>=1.0.0) (1.5.4)\n",
      "Requirement already satisfied: exceptiongroup>=1.0.2 in /usr/local/lib/python3.10/dist-packages (from anyio->httpx>=0.25.2->distilabel>=1.0.0->distilabel[hf-transformers,openai]>=1.0.0) (1.1.3)\n",
      "Requirement already satisfied: aiohappyeyeballs>=2.3.0 in /usr/local/lib/python3.10/dist-packages (from aiohttp->datasets>=2.16.0->distilabel>=1.0.0->distilabel[hf-transformers,openai]>=1.0.0) (2.4.0)\n",
      "Requirement already satisfied: aiosignal>=1.1.2 in /usr/local/lib/python3.10/dist-packages (from aiohttp->datasets>=2.16.0->distilabel>=1.0.0->distilabel[hf-transformers,openai]>=1.0.0) (1.3.1)\n",
      "Requirement already satisfied: attrs>=17.3.0 in /usr/local/lib/python3.10/dist-packages (from aiohttp->datasets>=2.16.0->distilabel>=1.0.0->distilabel[hf-transformers,openai]>=1.0.0) (23.1.0)\n",
      "Requirement already satisfied: frozenlist>=1.1.1 in /usr/local/lib/python3.10/dist-packages (from aiohttp->datasets>=2.16.0->distilabel>=1.0.0->distilabel[hf-transformers,openai]>=1.0.0) (1.4.1)\n",
      "Requirement already satisfied: multidict<7.0,>=4.5 in /usr/local/lib/python3.10/dist-packages (from aiohttp->datasets>=2.16.0->distilabel>=1.0.0->distilabel[hf-transformers,openai]>=1.0.0) (6.1.0)\n",
      "Requirement already satisfied: yarl<2.0,>=1.0 in /usr/local/lib/python3.10/dist-packages (from aiohttp->datasets>=2.16.0->distilabel>=1.0.0->distilabel[hf-transformers,openai]>=1.0.0) (1.11.1)\n",
      "Requirement already satisfied: async-timeout<5.0,>=4.0 in /usr/local/lib/python3.10/dist-packages (from aiohttp->datasets>=2.16.0->distilabel>=1.0.0->distilabel[hf-transformers,openai]>=1.0.0) (4.0.3)\n",
      "Requirement already satisfied: mdurl~=0.1 in /usr/local/lib/python3.10/dist-packages (from markdown-it-py>=2.2.0->rich>=13.5.0->distilabel>=1.0.0->distilabel[hf-transformers,openai]>=1.0.0) (0.1.2)\n",
      "Requirement already satisfied: charset-normalizer<4,>=2 in /usr/local/lib/python3.10/dist-packages (from requests>=2.32.2->datasets>=2.16.0->distilabel>=1.0.0->distilabel[hf-transformers,openai]>=1.0.0) (2.1.1)\n",
      "Requirement already satisfied: urllib3<3,>=1.21.1 in /usr/local/lib/python3.10/dist-packages (from requests>=2.32.2->datasets>=2.16.0->distilabel>=1.0.0->distilabel[hf-transformers,openai]>=1.0.0) (1.26.13)\n",
      "Requirement already satisfied: python-dateutil>=2.8.2 in /usr/local/lib/python3.10/dist-packages (from pandas->datasets>=2.16.0->distilabel>=1.0.0->distilabel[hf-transformers,openai]>=1.0.0) (2.8.2)\n",
      "Requirement already satisfied: pytz>=2020.1 in /usr/local/lib/python3.10/dist-packages (from pandas->datasets>=2.16.0->distilabel>=1.0.0->distilabel[hf-transformers,openai]>=1.0.0) (2024.2)\n",
      "Requirement already satisfied: tzdata>=2022.7 in /usr/local/lib/python3.10/dist-packages (from pandas->datasets>=2.16.0->distilabel>=1.0.0->distilabel[hf-transformers,openai]>=1.0.0) (2024.1)\n",
      "Requirement already satisfied: mpmath>=0.19 in /usr/local/lib/python3.10/dist-packages (from sympy->torch>=2.0.0->distilabel[hf-transformers,openai]>=1.0.0) (1.3.0)\n",
      "Requirement already satisfied: six>=1.5 in /usr/lib/python3/dist-packages (from python-dateutil>=2.8.2->pandas->datasets>=2.16.0->distilabel>=1.0.0->distilabel[hf-transformers,openai]>=1.0.0) (1.16.0)\n",
      "\u001b[33mWARNING: Running pip as the 'root' user can result in broken permissions and conflicting behaviour with the system package manager. It is recommended to use a virtual environment instead: https://pip.pypa.io/warnings/venv\u001b[0m\u001b[33m\n",
      "\u001b[0m\n",
      "\u001b[1m[\u001b[0m\u001b[34;49mnotice\u001b[0m\u001b[1;39;49m]\u001b[0m\u001b[39;49m A new release of pip is available: \u001b[0m\u001b[31;49m23.3.1\u001b[0m\u001b[39;49m -> \u001b[0m\u001b[32;49m24.2\u001b[0m\n",
      "\u001b[1m[\u001b[0m\u001b[34;49mnotice\u001b[0m\u001b[1;39;49m]\u001b[0m\u001b[39;49m To update, run: \u001b[0m\u001b[32;49mpython -m pip install --upgrade pip\u001b[0m\n"
     ]
    }
   ],
   "source": [
    "!pip install \"distilabel[hf-transformers, openai]>=1.0.0\""
   ]
  },
  {
   "cell_type": "code",
   "execution_count": 2,
   "metadata": {},
   "outputs": [],
   "source": [
    "from distilabel.pipeline import Pipeline\n",
    "from distilabel.steps import LoadDataFromHub, KeepColumns, LoadDataFromDicts\n",
    "from distilabel.steps.tasks import Genstruct\n",
    "from distilabel.llms import TransformersLLM\n",
    "from distilabel.steps import Step, StepInput\n",
    "from distilabel.steps.typing import StepOutput\n",
    "from typing import List\n",
    "from pydantic import Field, PrivateAttr\n",
    "from transformers import AutoModelForCausalLM, AutoTokenizer"
   ]
  },
  {
   "cell_type": "code",
   "execution_count": 3,
   "metadata": {},
   "outputs": [],
   "source": [
    "\n",
    "def parse_pred(pred):\n",
    "    \"\"\"Extract the list of instruction-response pairs from the prediction\"\"\"\n",
    "    QA_str_list = pred.split('</END>')\n",
    "    if not pred.endswith('</END>'):\n",
    "        QA_str_list = QA_str_list[:-1]\n",
    "\n",
    "    QA_list = []\n",
    "    raw_questions = []\n",
    "    for QA_str in QA_str_list:\n",
    "        try:\n",
    "            assert len(QA_str.split('<ANS>')) == 2, f'invalid QA string: {QA_str}'\n",
    "            Q_str, A_str = QA_str.split('<ANS>')\n",
    "            Q_str, A_str = Q_str.strip(), A_str.strip()\n",
    "            assert Q_str.startswith('<QUE>'), f'invalid question string: {Q_str} in QA_str: {QA_str}'\n",
    "            assert len(A_str) > 0, f'invalid answer string in QA_str: {QA_str}'\n",
    "            Q_str = Q_str.replace('<QUE>', '').strip()\n",
    "            assert Q_str.lower() not in raw_questions, f'duplicate question: {Q_str}'\n",
    "            QA_list.append({'Q': Q_str, 'A': A_str})\n",
    "            raw_questions.append(Q_str.lower())\n",
    "        except:\n",
    "            pass\n",
    "\n",
    "    return QA_list\n",
    "\n",
    "def get_instruction_response_pairs(context, model, tokenizer):\n",
    "    '''Prompt the synthesizer to generate instruction-response pairs based on the given context'''\n",
    "    prompt = f'<s> <CON> {context} </CON>\\n\\n'\n",
    "    inputs = tokenizer(prompt, add_special_tokens=False, return_tensors=\"pt\").input_ids.to(model.device)\n",
    "    outputs = model.generate(input_ids=inputs, max_new_tokens=400, do_sample=False)[0]\n",
    "\n",
    "    pred_start = int(inputs.shape[-1])\n",
    "    pred = tokenizer.decode(outputs[pred_start:], skip_special_tokens=True)\n",
    "    return parse_pred(pred)"
   ]
  },
  {
   "cell_type": "code",
   "execution_count": 4,
   "metadata": {},
   "outputs": [],
   "source": [
    "# # Get the generated instruction-response paris\n",
    "# instruction_response_pairs = get_instruction_response_pairs(context)\n",
    "\n",
    "# # Print out the results\n",
    "# print(f'# Context:\\n{context}\\n')\n",
    "# for index, pair in enumerate(instruction_response_pairs):\n",
    "#     print(f'## Instruction {index + 1}:\\n{pair[\"Q\"]}\\n## Response {index + 1}:\\n{pair[\"A\"]}\\n')"
   ]
  },
  {
   "cell_type": "code",
   "execution_count": 15,
   "metadata": {},
   "outputs": [],
   "source": [
    "from transformers.models.mistral.modeling_mistral import MistralForCausalLM\n",
    "from transformers.models.llama.tokenization_llama_fast import LlamaTokenizerFast\n",
    "\n",
    "class InstructionSynthesizer(Step):\n",
    "\n",
    "    def __init__(self, name: str):\n",
    "        super().__init__(name=name)\n",
    "        self._model = None\n",
    "        self._tokenizer = None\n",
    "    \n",
    "    @property\n",
    "    def inputs(self) -> List[str]:\n",
    "        # Specify the input fields expected by this step\n",
    "        return ['text']\n",
    "\n",
    "    @property\n",
    "    def outputs(self) -> List[str]:\n",
    "        # Specify the output fields that this step will produce\n",
    "        return ['instruction', 'response']\n",
    "\n",
    "    def process(self, inputs: StepInput) -> StepOutput:\n",
    "        if self._model is None:\n",
    "            self._model = AutoModelForCausalLM.from_pretrained(\"instruction-pretrain/instruction-synthesizer\").to('cuda')\n",
    "            self._tokenizer = AutoTokenizer.from_pretrained(\"instruction-pretrain/instruction-synthesizer\")\n",
    "        results = []\n",
    "        for example in inputs:\n",
    "            context = example['text']\n",
    "            instruction_response_pairs = get_instruction_response_pairs(context, self._model, self._tokenizer)\n",
    "            print(instruction_response_pairs)\n",
    "            text_index = inputs.index(example)\n",
    "            for pair in instruction_response_pairs:\n",
    "                results.append({\"text\": context, \"instruction\": pair[\"Q\"], \"response\": pair[\"A\"]})\n",
    "        yield results"
   ]
  },
  {
   "cell_type": "code",
   "execution_count": 18,
   "metadata": {},
   "outputs": [],
   "source": [
    "with Pipeline(name='synthesizer-pipeline') as pipeline:\n",
    "    load_data_from_hub = LoadDataFromHub(\n",
    "        name='load-data-from-hub',\n",
    "        # output_mappings={'prompt': 'text'}\n",
    "    )\n",
    "\n",
    "    synthesizer = InstructionSynthesizer(\n",
    "        name='synthesizer',\n",
    "        input_batch_size = 1\n",
    "    )\n",
    "    \n",
    "    load_data_from_hub >> synthesizer \n"
   ]
  },
  {
   "cell_type": "code",
   "execution_count": 19,
   "metadata": {},
   "outputs": [
    {
     "data": {
      "application/vnd.jupyter.widget-view+json": {
       "model_id": "10c5fe0cdc5b4d0fae50b66c2f89224e",
       "version_major": 2,
       "version_minor": 0
      },
      "text/plain": [
       "README.md:   0%|          | 0.00/299 [00:00<?, ?B/s]"
      ]
     },
     "metadata": {},
     "output_type": "display_data"
    },
    {
     "data": {
      "text/html": [
       "<pre style=\"white-space:pre;overflow-x:auto;line-height:normal;font-family:Menlo,'DejaVu Sans Mono',consolas,'Courier New',monospace\"><span style=\"color: #7fbfbf; text-decoration-color: #7fbfbf\">[09/11/24 14:57:25] </span><span style=\"color: #000080; text-decoration-color: #000080\">INFO    </span> <span style=\"font-weight: bold\">[</span><span style=\"color: #008000; text-decoration-color: #008000\">'distilabel.pipeline'</span><span style=\"font-weight: bold\">]</span> 📝 Pipeline data will be written to                <a href=\"file:///usr/local/lib/python3.10/dist-packages/distilabel/pipeline/base.py\" target=\"_blank\"><span style=\"color: #7f7f7f; text-decoration-color: #7f7f7f\">base.py</span></a><span style=\"color: #7f7f7f; text-decoration-color: #7f7f7f\">:</span><a href=\"file:///usr/local/lib/python3.10/dist-packages/distilabel/pipeline/base.py#696\" target=\"_blank\"><span style=\"color: #7f7f7f; text-decoration-color: #7f7f7f\">696</span></a>\n",
       "<span style=\"color: #7fbfbf; text-decoration-color: #7fbfbf\">                    </span>         <span style=\"color: #008000; text-decoration-color: #008000\">'/root/.cache/distilabel/pipelines/synthesizer-pipeline/2933172e5507b09605</span> <span style=\"color: #7f7f7f; text-decoration-color: #7f7f7f\">           </span>\n",
       "<span style=\"color: #7fbfbf; text-decoration-color: #7fbfbf\">                    </span>         <span style=\"color: #008000; text-decoration-color: #008000\">b227042779cd3e4cebf456/data'</span>                                               <span style=\"color: #7f7f7f; text-decoration-color: #7f7f7f\">           </span>\n",
       "</pre>\n"
      ],
      "text/plain": [
       "\u001b[2;36m[09/11/24 14:57:25]\u001b[0m\u001b[2;36m \u001b[0m\u001b[34mINFO    \u001b[0m \u001b[1m[\u001b[0m\u001b[32m'distilabel.pipeline'\u001b[0m\u001b[1m]\u001b[0m 📝 Pipeline data will be written to                \u001b]8;id=636869;file:///usr/local/lib/python3.10/dist-packages/distilabel/pipeline/base.py\u001b\\\u001b[2mbase.py\u001b[0m\u001b]8;;\u001b\\\u001b[2m:\u001b[0m\u001b]8;id=876734;file:///usr/local/lib/python3.10/dist-packages/distilabel/pipeline/base.py#696\u001b\\\u001b[2m696\u001b[0m\u001b]8;;\u001b\\\n",
       "\u001b[2;36m                    \u001b[0m         \u001b[32m'/root/.cache/distilabel/pipelines/synthesizer-pipeline/2933172e5507b09605\u001b[0m \u001b[2m           \u001b[0m\n",
       "\u001b[2;36m                    \u001b[0m         \u001b[32mb227042779cd3e4cebf456/data'\u001b[0m                                               \u001b[2m           \u001b[0m\n"
      ]
     },
     "metadata": {},
     "output_type": "display_data"
    },
    {
     "data": {
      "text/html": [
       "<pre style=\"white-space:pre;overflow-x:auto;line-height:normal;font-family:Menlo,'DejaVu Sans Mono',consolas,'Courier New',monospace\"><span style=\"color: #7fbfbf; text-decoration-color: #7fbfbf\">                    </span><span style=\"color: #000080; text-decoration-color: #000080\">INFO    </span> <span style=\"font-weight: bold\">[</span><span style=\"color: #008000; text-decoration-color: #008000\">'distilabel.pipeline'</span><span style=\"font-weight: bold\">]</span> ⌛ The steps of the pipeline will be loaded in     <a href=\"file:///usr/local/lib/python3.10/dist-packages/distilabel/pipeline/base.py\" target=\"_blank\"><span style=\"color: #7f7f7f; text-decoration-color: #7f7f7f\">base.py</span></a><span style=\"color: #7f7f7f; text-decoration-color: #7f7f7f\">:</span><a href=\"file:///usr/local/lib/python3.10/dist-packages/distilabel/pipeline/base.py#705\" target=\"_blank\"><span style=\"color: #7f7f7f; text-decoration-color: #7f7f7f\">705</span></a>\n",
       "<span style=\"color: #7fbfbf; text-decoration-color: #7fbfbf\">                    </span>         stages:                                                                    <span style=\"color: #7f7f7f; text-decoration-color: #7f7f7f\">           </span>\n",
       "<span style=\"color: #7fbfbf; text-decoration-color: #7fbfbf\">                    </span>          * Stage <span style=\"color: #008080; text-decoration-color: #008080; font-weight: bold\">0</span>: <span style=\"font-weight: bold\">[</span><span style=\"color: #008000; text-decoration-color: #008000\">'load-data-from-hub'</span>, <span style=\"color: #008000; text-decoration-color: #008000\">'synthesizer'</span><span style=\"font-weight: bold\">]</span>                          <span style=\"color: #7f7f7f; text-decoration-color: #7f7f7f\">           </span>\n",
       "</pre>\n"
      ],
      "text/plain": [
       "\u001b[2;36m                   \u001b[0m\u001b[2;36m \u001b[0m\u001b[34mINFO    \u001b[0m \u001b[1m[\u001b[0m\u001b[32m'distilabel.pipeline'\u001b[0m\u001b[1m]\u001b[0m ⌛ The steps of the pipeline will be loaded in     \u001b]8;id=421415;file:///usr/local/lib/python3.10/dist-packages/distilabel/pipeline/base.py\u001b\\\u001b[2mbase.py\u001b[0m\u001b]8;;\u001b\\\u001b[2m:\u001b[0m\u001b]8;id=747324;file:///usr/local/lib/python3.10/dist-packages/distilabel/pipeline/base.py#705\u001b\\\u001b[2m705\u001b[0m\u001b]8;;\u001b\\\n",
       "\u001b[2;36m                    \u001b[0m         stages:                                                                    \u001b[2m           \u001b[0m\n",
       "\u001b[2;36m                    \u001b[0m          * Stage \u001b[1;36m0\u001b[0m: \u001b[1m[\u001b[0m\u001b[32m'load-data-from-hub'\u001b[0m, \u001b[32m'synthesizer'\u001b[0m\u001b[1m]\u001b[0m                          \u001b[2m           \u001b[0m\n"
      ]
     },
     "metadata": {},
     "output_type": "display_data"
    },
    {
     "data": {
      "text/html": [
       "<pre style=\"white-space:pre;overflow-x:auto;line-height:normal;font-family:Menlo,'DejaVu Sans Mono',consolas,'Courier New',monospace\"><span style=\"color: #7fbfbf; text-decoration-color: #7fbfbf\">                    </span><span style=\"color: #000080; text-decoration-color: #000080\">INFO    </span> <span style=\"font-weight: bold\">[</span><span style=\"color: #008000; text-decoration-color: #008000\">'distilabel.pipeline'</span><span style=\"font-weight: bold\">]</span> ⏳ Waiting for all the steps of stage <span style=\"color: #008080; text-decoration-color: #008080; font-weight: bold\">0</span> to load<span style=\"color: #808000; text-decoration-color: #808000\">...</span> <a href=\"file:///usr/local/lib/python3.10/dist-packages/distilabel/pipeline/base.py\" target=\"_blank\"><span style=\"color: #7f7f7f; text-decoration-color: #7f7f7f\">base.py</span></a><span style=\"color: #7f7f7f; text-decoration-color: #7f7f7f\">:</span><a href=\"file:///usr/local/lib/python3.10/dist-packages/distilabel/pipeline/base.py#918\" target=\"_blank\"><span style=\"color: #7f7f7f; text-decoration-color: #7f7f7f\">918</span></a>\n",
       "</pre>\n"
      ],
      "text/plain": [
       "\u001b[2;36m                   \u001b[0m\u001b[2;36m \u001b[0m\u001b[34mINFO    \u001b[0m \u001b[1m[\u001b[0m\u001b[32m'distilabel.pipeline'\u001b[0m\u001b[1m]\u001b[0m ⏳ Waiting for all the steps of stage \u001b[1;36m0\u001b[0m to load\u001b[33m...\u001b[0m \u001b]8;id=603318;file:///usr/local/lib/python3.10/dist-packages/distilabel/pipeline/base.py\u001b\\\u001b[2mbase.py\u001b[0m\u001b]8;;\u001b\\\u001b[2m:\u001b[0m\u001b]8;id=570833;file:///usr/local/lib/python3.10/dist-packages/distilabel/pipeline/base.py#918\u001b\\\u001b[2m918\u001b[0m\u001b]8;;\u001b\\\n"
      ]
     },
     "metadata": {},
     "output_type": "display_data"
    },
    {
     "data": {
      "text/html": [
       "<pre style=\"white-space:pre;overflow-x:auto;line-height:normal;font-family:Menlo,'DejaVu Sans Mono',consolas,'Courier New',monospace\"><span style=\"color: #7fbfbf; text-decoration-color: #7fbfbf\">[09/11/24 14:57:28] </span><span style=\"color: #000080; text-decoration-color: #000080\">INFO    </span> <span style=\"font-weight: bold\">[</span><span style=\"color: #008000; text-decoration-color: #008000\">'distilabel.pipeline'</span><span style=\"font-weight: bold\">]</span> ⏳ Steps from stage <span style=\"color: #008080; text-decoration-color: #008080; font-weight: bold\">0</span> loaded: <span style=\"color: #008080; text-decoration-color: #008080; font-weight: bold\">2</span>/<span style=\"color: #008080; text-decoration-color: #008080; font-weight: bold\">2</span>                  <a href=\"file:///usr/local/lib/python3.10/dist-packages/distilabel/pipeline/base.py\" target=\"_blank\"><span style=\"color: #7f7f7f; text-decoration-color: #7f7f7f\">base.py</span></a><span style=\"color: #7f7f7f; text-decoration-color: #7f7f7f\">:</span><a href=\"file:///usr/local/lib/python3.10/dist-packages/distilabel/pipeline/base.py#950\" target=\"_blank\"><span style=\"color: #7f7f7f; text-decoration-color: #7f7f7f\">950</span></a>\n",
       "<span style=\"color: #7fbfbf; text-decoration-color: #7fbfbf\">                    </span>          * <span style=\"color: #008000; text-decoration-color: #008000\">'load-data-from-hub'</span> replicas: <span style=\"color: #008080; text-decoration-color: #008080; font-weight: bold\">1</span>/<span style=\"color: #008080; text-decoration-color: #008080; font-weight: bold\">1</span>                                      <span style=\"color: #7f7f7f; text-decoration-color: #7f7f7f\">           </span>\n",
       "<span style=\"color: #7fbfbf; text-decoration-color: #7fbfbf\">                    </span>          * <span style=\"color: #008000; text-decoration-color: #008000\">'synthesizer'</span> replicas: <span style=\"color: #008080; text-decoration-color: #008080; font-weight: bold\">1</span>/<span style=\"color: #008080; text-decoration-color: #008080; font-weight: bold\">1</span>                                             <span style=\"color: #7f7f7f; text-decoration-color: #7f7f7f\">           </span>\n",
       "</pre>\n"
      ],
      "text/plain": [
       "\u001b[2;36m[09/11/24 14:57:28]\u001b[0m\u001b[2;36m \u001b[0m\u001b[34mINFO    \u001b[0m \u001b[1m[\u001b[0m\u001b[32m'distilabel.pipeline'\u001b[0m\u001b[1m]\u001b[0m ⏳ Steps from stage \u001b[1;36m0\u001b[0m loaded: \u001b[1;36m2\u001b[0m/\u001b[1;36m2\u001b[0m                  \u001b]8;id=77972;file:///usr/local/lib/python3.10/dist-packages/distilabel/pipeline/base.py\u001b\\\u001b[2mbase.py\u001b[0m\u001b]8;;\u001b\\\u001b[2m:\u001b[0m\u001b]8;id=159206;file:///usr/local/lib/python3.10/dist-packages/distilabel/pipeline/base.py#950\u001b\\\u001b[2m950\u001b[0m\u001b]8;;\u001b\\\n",
       "\u001b[2;36m                    \u001b[0m          * \u001b[32m'load-data-from-hub'\u001b[0m replicas: \u001b[1;36m1\u001b[0m/\u001b[1;36m1\u001b[0m                                      \u001b[2m           \u001b[0m\n",
       "\u001b[2;36m                    \u001b[0m          * \u001b[32m'synthesizer'\u001b[0m replicas: \u001b[1;36m1\u001b[0m/\u001b[1;36m1\u001b[0m                                             \u001b[2m           \u001b[0m\n"
      ]
     },
     "metadata": {},
     "output_type": "display_data"
    },
    {
     "data": {
      "text/html": [
       "<pre style=\"white-space:pre;overflow-x:auto;line-height:normal;font-family:Menlo,'DejaVu Sans Mono',consolas,'Courier New',monospace\"><span style=\"color: #7fbfbf; text-decoration-color: #7fbfbf\">                    </span><span style=\"color: #000080; text-decoration-color: #000080\">INFO    </span> <span style=\"font-weight: bold\">[</span><span style=\"color: #008000; text-decoration-color: #008000\">'distilabel.pipeline'</span><span style=\"font-weight: bold\">]</span> ✅ All the steps from stage <span style=\"color: #008080; text-decoration-color: #008080; font-weight: bold\">0</span> have been loaded!    <a href=\"file:///usr/local/lib/python3.10/dist-packages/distilabel/pipeline/base.py\" target=\"_blank\"><span style=\"color: #7f7f7f; text-decoration-color: #7f7f7f\">base.py</span></a><span style=\"color: #7f7f7f; text-decoration-color: #7f7f7f\">:</span><a href=\"file:///usr/local/lib/python3.10/dist-packages/distilabel/pipeline/base.py#954\" target=\"_blank\"><span style=\"color: #7f7f7f; text-decoration-color: #7f7f7f\">954</span></a>\n",
       "</pre>\n"
      ],
      "text/plain": [
       "\u001b[2;36m                   \u001b[0m\u001b[2;36m \u001b[0m\u001b[34mINFO    \u001b[0m \u001b[1m[\u001b[0m\u001b[32m'distilabel.pipeline'\u001b[0m\u001b[1m]\u001b[0m ✅ All the steps from stage \u001b[1;36m0\u001b[0m have been loaded!    \u001b]8;id=534123;file:///usr/local/lib/python3.10/dist-packages/distilabel/pipeline/base.py\u001b\\\u001b[2mbase.py\u001b[0m\u001b]8;;\u001b\\\u001b[2m:\u001b[0m\u001b]8;id=757155;file:///usr/local/lib/python3.10/dist-packages/distilabel/pipeline/base.py#954\u001b\\\u001b[2m954\u001b[0m\u001b]8;;\u001b\\\n"
      ]
     },
     "metadata": {},
     "output_type": "display_data"
    },
    {
     "data": {
      "text/html": [
       "<pre style=\"white-space:pre;overflow-x:auto;line-height:normal;font-family:Menlo,'DejaVu Sans Mono',consolas,'Courier New',monospace\"><span style=\"color: #7fbfbf; text-decoration-color: #7fbfbf\">                    </span><span style=\"color: #000080; text-decoration-color: #000080\">INFO    </span> <span style=\"font-weight: bold\">[</span><span style=\"color: #008000; text-decoration-color: #008000\">'distilabel.step.load-data-from-hub'</span><span style=\"font-weight: bold\">]</span> 🧬 Starting yielding        <a href=\"file:///usr/local/lib/python3.10/dist-packages/distilabel/pipeline/step_wrapper.py\" target=\"_blank\"><span style=\"color: #7f7f7f; text-decoration-color: #7f7f7f\">step_wrapper.py</span></a><span style=\"color: #7f7f7f; text-decoration-color: #7f7f7f\">:</span><a href=\"file:///usr/local/lib/python3.10/dist-packages/distilabel/pipeline/step_wrapper.py#167\" target=\"_blank\"><span style=\"color: #7f7f7f; text-decoration-color: #7f7f7f\">167</span></a>\n",
       "<span style=\"color: #7fbfbf; text-decoration-color: #7fbfbf\">                    </span>         batches from generator step <span style=\"color: #008000; text-decoration-color: #008000\">'load-data-from-hub'</span>. Offset: <span style=\"color: #008080; text-decoration-color: #008080; font-weight: bold\">0</span>        <span style=\"color: #7f7f7f; text-decoration-color: #7f7f7f\">                   </span>\n",
       "</pre>\n"
      ],
      "text/plain": [
       "\u001b[2;36m                   \u001b[0m\u001b[2;36m \u001b[0m\u001b[34mINFO    \u001b[0m \u001b[1m[\u001b[0m\u001b[32m'distilabel.step.load-data-from-hub'\u001b[0m\u001b[1m]\u001b[0m 🧬 Starting yielding        \u001b]8;id=175660;file:///usr/local/lib/python3.10/dist-packages/distilabel/pipeline/step_wrapper.py\u001b\\\u001b[2mstep_wrapper.py\u001b[0m\u001b]8;;\u001b\\\u001b[2m:\u001b[0m\u001b]8;id=722348;file:///usr/local/lib/python3.10/dist-packages/distilabel/pipeline/step_wrapper.py#167\u001b\\\u001b[2m167\u001b[0m\u001b]8;;\u001b\\\n",
       "\u001b[2;36m                    \u001b[0m         batches from generator step \u001b[32m'load-data-from-hub'\u001b[0m. Offset: \u001b[1;36m0\u001b[0m        \u001b[2m                   \u001b[0m\n"
      ]
     },
     "metadata": {},
     "output_type": "display_data"
    },
    {
     "data": {
      "text/html": [
       "<pre style=\"white-space:pre;overflow-x:auto;line-height:normal;font-family:Menlo,'DejaVu Sans Mono',consolas,'Courier New',monospace\"><span style=\"color: #7fbfbf; text-decoration-color: #7fbfbf\">                    </span><span style=\"color: #000080; text-decoration-color: #000080\">INFO    </span> <span style=\"font-weight: bold\">[</span><span style=\"color: #008000; text-decoration-color: #008000\">'distilabel.step.load-data-from-hub'</span><span style=\"font-weight: bold\">]</span> 📨 Step                     <a href=\"file:///usr/local/lib/python3.10/dist-packages/distilabel/pipeline/step_wrapper.py\" target=\"_blank\"><span style=\"color: #7f7f7f; text-decoration-color: #7f7f7f\">step_wrapper.py</span></a><span style=\"color: #7f7f7f; text-decoration-color: #7f7f7f\">:</span><a href=\"file:///usr/local/lib/python3.10/dist-packages/distilabel/pipeline/step_wrapper.py#274\" target=\"_blank\"><span style=\"color: #7f7f7f; text-decoration-color: #7f7f7f\">274</span></a>\n",
       "<span style=\"color: #7fbfbf; text-decoration-color: #7fbfbf\">                    </span>         <span style=\"color: #008000; text-decoration-color: #008000\">'load-data-from-hub'</span> sending batch <span style=\"color: #008080; text-decoration-color: #008080; font-weight: bold\">0</span> to output queue               <span style=\"color: #7f7f7f; text-decoration-color: #7f7f7f\">                   </span>\n",
       "</pre>\n"
      ],
      "text/plain": [
       "\u001b[2;36m                   \u001b[0m\u001b[2;36m \u001b[0m\u001b[34mINFO    \u001b[0m \u001b[1m[\u001b[0m\u001b[32m'distilabel.step.load-data-from-hub'\u001b[0m\u001b[1m]\u001b[0m 📨 Step                     \u001b]8;id=465443;file:///usr/local/lib/python3.10/dist-packages/distilabel/pipeline/step_wrapper.py\u001b\\\u001b[2mstep_wrapper.py\u001b[0m\u001b]8;;\u001b\\\u001b[2m:\u001b[0m\u001b]8;id=792051;file:///usr/local/lib/python3.10/dist-packages/distilabel/pipeline/step_wrapper.py#274\u001b\\\u001b[2m274\u001b[0m\u001b]8;;\u001b\\\n",
       "\u001b[2;36m                    \u001b[0m         \u001b[32m'load-data-from-hub'\u001b[0m sending batch \u001b[1;36m0\u001b[0m to output queue               \u001b[2m                   \u001b[0m\n"
      ]
     },
     "metadata": {},
     "output_type": "display_data"
    },
    {
     "data": {
      "text/html": [
       "<pre style=\"white-space:pre;overflow-x:auto;line-height:normal;font-family:Menlo,'DejaVu Sans Mono',consolas,'Courier New',monospace\"><span style=\"color: #7fbfbf; text-decoration-color: #7fbfbf\">                    </span><span style=\"color: #000080; text-decoration-color: #000080\">INFO    </span> <span style=\"font-weight: bold\">[</span><span style=\"color: #008000; text-decoration-color: #008000\">'distilabel.step.load-data-from-hub'</span><span style=\"font-weight: bold\">]</span> 🏁 Finished running step    <a href=\"file:///usr/local/lib/python3.10/dist-packages/distilabel/pipeline/step_wrapper.py\" target=\"_blank\"><span style=\"color: #7f7f7f; text-decoration-color: #7f7f7f\">step_wrapper.py</span></a><span style=\"color: #7f7f7f; text-decoration-color: #7f7f7f\">:</span><a href=\"file:///usr/local/lib/python3.10/dist-packages/distilabel/pipeline/step_wrapper.py#127\" target=\"_blank\"><span style=\"color: #7f7f7f; text-decoration-color: #7f7f7f\">127</span></a>\n",
       "<span style=\"color: #7fbfbf; text-decoration-color: #7fbfbf\">                    </span>         <span style=\"color: #008000; text-decoration-color: #008000\">'load-data-from-hub'</span> <span style=\"font-weight: bold\">(</span>replica ID: <span style=\"color: #008080; text-decoration-color: #008080; font-weight: bold\">0</span><span style=\"font-weight: bold\">)</span>                               <span style=\"color: #7f7f7f; text-decoration-color: #7f7f7f\">                   </span>\n",
       "</pre>\n"
      ],
      "text/plain": [
       "\u001b[2;36m                   \u001b[0m\u001b[2;36m \u001b[0m\u001b[34mINFO    \u001b[0m \u001b[1m[\u001b[0m\u001b[32m'distilabel.step.load-data-from-hub'\u001b[0m\u001b[1m]\u001b[0m 🏁 Finished running step    \u001b]8;id=603665;file:///usr/local/lib/python3.10/dist-packages/distilabel/pipeline/step_wrapper.py\u001b\\\u001b[2mstep_wrapper.py\u001b[0m\u001b]8;;\u001b\\\u001b[2m:\u001b[0m\u001b]8;id=482766;file:///usr/local/lib/python3.10/dist-packages/distilabel/pipeline/step_wrapper.py#127\u001b\\\u001b[2m127\u001b[0m\u001b]8;;\u001b\\\n",
       "\u001b[2;36m                    \u001b[0m         \u001b[32m'load-data-from-hub'\u001b[0m \u001b[1m(\u001b[0mreplica ID: \u001b[1;36m0\u001b[0m\u001b[1m)\u001b[0m                               \u001b[2m                   \u001b[0m\n"
      ]
     },
     "metadata": {},
     "output_type": "display_data"
    },
    {
     "data": {
      "text/html": [
       "<pre style=\"white-space:pre;overflow-x:auto;line-height:normal;font-family:Menlo,'DejaVu Sans Mono',consolas,'Courier New',monospace\"><span style=\"color: #7fbfbf; text-decoration-color: #7fbfbf\">                    </span><span style=\"color: #000080; text-decoration-color: #000080\">INFO    </span> <span style=\"font-weight: bold\">[</span><span style=\"color: #008000; text-decoration-color: #008000\">'distilabel.step.synthesizer'</span><span style=\"font-weight: bold\">]</span> 📦 Processing batch <span style=\"color: #008080; text-decoration-color: #008080; font-weight: bold\">0</span> in           <a href=\"file:///usr/local/lib/python3.10/dist-packages/distilabel/pipeline/step_wrapper.py\" target=\"_blank\"><span style=\"color: #7f7f7f; text-decoration-color: #7f7f7f\">step_wrapper.py</span></a><span style=\"color: #7f7f7f; text-decoration-color: #7f7f7f\">:</span><a href=\"file:///usr/local/lib/python3.10/dist-packages/distilabel/pipeline/step_wrapper.py#217\" target=\"_blank\"><span style=\"color: #7f7f7f; text-decoration-color: #7f7f7f\">217</span></a>\n",
       "<span style=\"color: #7fbfbf; text-decoration-color: #7fbfbf\">                    </span>         <span style=\"color: #008000; text-decoration-color: #008000\">'synthesizer'</span> <span style=\"font-weight: bold\">(</span>replica ID: <span style=\"color: #008080; text-decoration-color: #008080; font-weight: bold\">0</span><span style=\"font-weight: bold\">)</span>                                      <span style=\"color: #7f7f7f; text-decoration-color: #7f7f7f\">                   </span>\n",
       "</pre>\n"
      ],
      "text/plain": [
       "\u001b[2;36m                   \u001b[0m\u001b[2;36m \u001b[0m\u001b[34mINFO    \u001b[0m \u001b[1m[\u001b[0m\u001b[32m'distilabel.step.synthesizer'\u001b[0m\u001b[1m]\u001b[0m 📦 Processing batch \u001b[1;36m0\u001b[0m in           \u001b]8;id=157551;file:///usr/local/lib/python3.10/dist-packages/distilabel/pipeline/step_wrapper.py\u001b\\\u001b[2mstep_wrapper.py\u001b[0m\u001b]8;;\u001b\\\u001b[2m:\u001b[0m\u001b]8;id=216922;file:///usr/local/lib/python3.10/dist-packages/distilabel/pipeline/step_wrapper.py#217\u001b\\\u001b[2m217\u001b[0m\u001b]8;;\u001b\\\n",
       "\u001b[2;36m                    \u001b[0m         \u001b[32m'synthesizer'\u001b[0m \u001b[1m(\u001b[0mreplica ID: \u001b[1;36m0\u001b[0m\u001b[1m)\u001b[0m                                      \u001b[2m                   \u001b[0m\n"
      ]
     },
     "metadata": {},
     "output_type": "display_data"
    },
    {
     "name": "stderr",
     "output_type": "stream",
     "text": [
      "The attention mask and the pad token id were not set. As a consequence, you may observe unexpected behavior. Please pass your input's `attention_mask` to obtain reliable results.\n",
      "Setting `pad_token_id` to `eos_token_id`:2 for open-end generation.\n",
      "The attention mask is not set and cannot be inferred from input because pad token is same as eos token. As a consequence, you may observe unexpected behavior. Please pass your input's `attention_mask` to obtain reliable results.\n"
     ]
    },
    {
     "name": "stdout",
     "output_type": "stream",
     "text": [
      "[{'Q': 'where did the us navy transport plane crash?', 'A': 'philippine sea south of japan'}, {'Q': 'how many people are missing?', 'A': 'three'}, {'Q': 'how many people were rescued?', 'A': 'eight'}, {'Q': 'what will happen to the missing people?', 'A': 'search and rescue efforts continue'}, {'Q': 'what is the name of the us navy transport plane?', 'A': 'greyhound'}, {'Q': 'how many crashes have there been this year?', 'A': 'two'}, {'Q': 'how many people were rescued and transferred to the carrier?', 'A': 'eight'}, {'Q': 'what is the number of people missing?', 'A': 'three'}]\n"
     ]
    },
    {
     "name": "stderr",
     "output_type": "stream",
     "text": [
      "The attention mask and the pad token id were not set. As a consequence, you may observe unexpected behavior. Please pass your input's `attention_mask` to obtain reliable results.\n",
      "Setting `pad_token_id` to `eos_token_id`:2 for open-end generation.\n"
     ]
    },
    {
     "name": "stdout",
     "output_type": "stream",
     "text": [
      "[{'Q': \"when is he due to be sworn in?\\nLet's think step by step.\", 'A': 'zimbabwe s former vice president emmerson mnangagwa arrived back in the country on wednesday two days before he is due to be sworn in as president to replace robert mugabe ruling party zanupf official larry mavhima said mugabe resigned as zimbabwe s president on tuesday a week after the army and his former political allies moved to end four decades of rule by a man once feted as an independence hero who became feared as a despot\\nTherefore, the answer is wednesday'}]\n"
     ]
    },
    {
     "name": "stderr",
     "output_type": "stream",
     "text": [
      "The attention mask and the pad token id were not set. As a consequence, you may observe unexpected behavior. Please pass your input's `attention_mask` to obtain reliable results.\n",
      "Setting `pad_token_id` to `eos_token_id`:2 for open-end generation.\n"
     ]
    },
    {
     "name": "stdout",
     "output_type": "stream",
     "text": [
      "[{'Q': 'what is cleveland preparing for', 'A': 'the republican national convention'}, {'Q': 'when is the convention', 'A': 'july'}, {'Q': 'what has been criticized', 'A': 'aspects of the preparations'}, {'Q': 'who has criticized the preparations', 'A': 'a civil rights group and a police union'}, {'Q': 'who is the police chief', 'A': 'calvin williams'}, {'Q': 'what will the police withhold', 'A': 'certain information'}, {'Q': 'why will they withhold information', 'A': 'to stymie anyone seeking to disrupt the convention'}, {'Q': 'how many officers will be assigned', 'A': 'unknown'}, {'Q': 'what did the mayor say', 'A': 'comprehensive overview of security preparations'}, {'Q': 'what has been accused', 'A': 'the city of taking too long to issue permits to protesters planning demonstrations at the convention'}, {'Q': 'how many demonstrations have there been', 'A': 'intense'}, {'Q': 'when are the demonstrations', 'A': 'at campaign stops'}, {'Q': 'what happened at the demonstrations', 'A': 'resulted in violence between his supporters and opponents'}, {'Q': 'who is the mayor', 'A': 'frank jackson'}]\n"
     ]
    },
    {
     "name": "stderr",
     "output_type": "stream",
     "text": [
      "The attention mask and the pad token id were not set. As a consequence, you may observe unexpected behavior. Please pass your input's `attention_mask` to obtain reliable results.\n",
      "Setting `pad_token_id` to `eos_token_id`:2 for open-end generation.\n"
     ]
    },
    {
     "name": "stdout",
     "output_type": "stream",
     "text": [
      "[{'Q': 'what does a federal law call for?', 'A': 'calls on states to require that healthcare workers notify child protection services when a baby is born affected by illegal substance abuse or has symptoms of drug withdrawal such reports are not to be used as evidence of abuse the law says but rather to help develop a “plan of safe care” for the newborns after they leave the hospital'}, {'Q': 'how many states are not following this law?', 'A': 'reuters found that no more than nine states and the district of columbia appear to follow the law'}, {'Q': 'what does casey want?', 'A': 'a congressional watchdog agency to investigate whether states are complying with a federal law meant to protect newborns in drug withdrawal and help their families'}, {'Q': 'who is robert casey?', 'A': 'senator'}, {'Q': 'from what state?', 'A': 'pennsylvania'}, {'Q': 'what does the law say?', 'A': 'federal law calls on states to require that healthcare workers notify child protection services when a baby is born affected by illegal substance abuse or has symptoms of drug withdrawal such reports are not to be used as evidence of abuse the law says but rather to help develop a “plan of safe care” for the newborns after they leave the hospital'}]\n"
     ]
    },
    {
     "name": "stderr",
     "output_type": "stream",
     "text": [
      "The attention mask and the pad token id were not set. As a consequence, you may observe unexpected behavior. Please pass your input's `attention_mask` to obtain reliable results.\n",
      "Setting `pad_token_id` to `eos_token_id`:2 for open-end generation.\n"
     ]
    },
    {
     "name": "stdout",
     "output_type": "stream",
     "text": [
      "[{'Q': \"what is the foundation's opinion regarding states' financial strain?\", 'A': 'the kaiser family foundation estimates a repeal of obamacare and a cap on federal medicaid spending such as through a block grant or a per capita cap could cut medicaid funding by  percent over the next decade that would likely handicap states’ ability to respond to larger enrollments during recessions'}, {'Q': 'what is the reason for the potential repeal of obamacare?', 'A': 'president donald trump’s push to fulfill a campaign promise to replace obamacare his predecessor’s signature healthcare plan with the help of a republicancontrolled congress'}, {'Q': 'why is there a push to replace obamacare?', 'A': 'obamacare formally known as the affordable care act graphic  here while republicans have not agreed to specific plans one idea gaining traction has been to convert the current system in which states share the cost of medicaid enrollees with the federal government into fixed payments or block grants sent to the states trump’s nominee to run the us department of health and human services us representative tom price has long advocated such a plan'}, {'Q': 'what would the block grants be used for?', 'A': 'the kaiser family foundation estimates a repeal of obamacare and a cap on federal medicaid spending such as through a block grant or a per capita cap could cut medicaid funding by  percent over the next decade that would likely handicap states’ ability to respond to larger enrollments during recessions'}]\n"
     ]
    },
    {
     "name": "stderr",
     "output_type": "stream",
     "text": [
      "The attention mask and the pad token id were not set. As a consequence, you may observe unexpected behavior. Please pass your input's `attention_mask` to obtain reliable results.\n",
      "Setting `pad_token_id` to `eos_token_id`:2 for open-end generation.\n"
     ]
    },
    {
     "name": "stdout",
     "output_type": "stream",
     "text": [
      "[{'Q': 'how many people were detained?', 'A': 'two dozen'}, {'Q': 'how many people remain in detention?', 'A': 'a couple dozen'}, {'Q': 'what is the number of people that remain in detention?', 'A': 'two dozen'}, {'Q': 'how many people were detained when they entered the united states on saturday?', 'A': 'two dozen'}]\n"
     ]
    },
    {
     "name": "stderr",
     "output_type": "stream",
     "text": [
      "The attention mask and the pad token id were not set. As a consequence, you may observe unexpected behavior. Please pass your input's `attention_mask` to obtain reliable results.\n",
      "Setting `pad_token_id` to `eos_token_id`:2 for open-end generation.\n"
     ]
    },
    {
     "name": "stdout",
     "output_type": "stream",
     "text": [
      "[{'Q': 'who did donald trump invite?', 'A': 'senate democratic leader chuck schumer and house democratic leader nancy pelosi'}, {'Q': 'who did president donald trump invite to dine with him on wednesday?', 'A': 'senate democratic leader chuck schumer and house democratic leader nancy pelosi'}, {'Q': 'what is the name of the act that would protect youth brought to the united states illegally?', 'A': 'dream act'}]\n"
     ]
    },
    {
     "name": "stderr",
     "output_type": "stream",
     "text": [
      "The attention mask and the pad token id were not set. As a consequence, you may observe unexpected behavior. Please pass your input's `attention_mask` to obtain reliable results.\n",
      "Setting `pad_token_id` to `eos_token_id`:2 for open-end generation.\n"
     ]
    },
    {
     "name": "stdout",
     "output_type": "stream",
     "text": [
      "[{'Q': 'what is the risk of a cholera epidemic?', 'A': 'no access to clean water'}, {'Q': 'who is funding the famine early warning systems network?', 'A': 'us agency for international development'}, {'Q': 'how long will it take for famine to occur?', 'A': 'three or four months'}, {'Q': 'what is the name of the organization that funds the famine early warning system?', 'A': 'fews net'}]\n"
     ]
    },
    {
     "name": "stderr",
     "output_type": "stream",
     "text": [
      "The attention mask and the pad token id were not set. As a consequence, you may observe unexpected behavior. Please pass your input's `attention_mask` to obtain reliable results.\n",
      "Setting `pad_token_id` to `eos_token_id`:2 for open-end generation.\n"
     ]
    },
    {
     "name": "stdout",
     "output_type": "stream",
     "text": [
      "[{'Q': 'who called the move a dangerous escalation?', 'A': \"qatar's foreign ministry\"}, {'Q': 'what did sheikh mohammed bin abdulrahman althani call the move?', 'A': 'a dangerous escalation'}]\n"
     ]
    },
    {
     "data": {
      "text/html": [
       "<pre style=\"white-space:pre;overflow-x:auto;line-height:normal;font-family:Menlo,'DejaVu Sans Mono',consolas,'Courier New',monospace\"><span style=\"color: #7fbfbf; text-decoration-color: #7fbfbf\">[09/11/24 14:59:22] </span><span style=\"color: #000080; text-decoration-color: #000080\">INFO    </span> <span style=\"font-weight: bold\">[</span><span style=\"color: #008000; text-decoration-color: #008000\">'distilabel.step.synthesizer'</span><span style=\"font-weight: bold\">]</span> 📨 Step <span style=\"color: #008000; text-decoration-color: #008000\">'synthesizer'</span> sending      <a href=\"file:///usr/local/lib/python3.10/dist-packages/distilabel/pipeline/step_wrapper.py\" target=\"_blank\"><span style=\"color: #7f7f7f; text-decoration-color: #7f7f7f\">step_wrapper.py</span></a><span style=\"color: #7f7f7f; text-decoration-color: #7f7f7f\">:</span><a href=\"file:///usr/local/lib/python3.10/dist-packages/distilabel/pipeline/step_wrapper.py#274\" target=\"_blank\"><span style=\"color: #7f7f7f; text-decoration-color: #7f7f7f\">274</span></a>\n",
       "<span style=\"color: #7fbfbf; text-decoration-color: #7fbfbf\">                    </span>         batch <span style=\"color: #008080; text-decoration-color: #008080; font-weight: bold\">0</span> to output queue                                            <span style=\"color: #7f7f7f; text-decoration-color: #7f7f7f\">                   </span>\n",
       "</pre>\n"
      ],
      "text/plain": [
       "\u001b[2;36m[09/11/24 14:59:22]\u001b[0m\u001b[2;36m \u001b[0m\u001b[34mINFO    \u001b[0m \u001b[1m[\u001b[0m\u001b[32m'distilabel.step.synthesizer'\u001b[0m\u001b[1m]\u001b[0m 📨 Step \u001b[32m'synthesizer'\u001b[0m sending      \u001b]8;id=210973;file:///usr/local/lib/python3.10/dist-packages/distilabel/pipeline/step_wrapper.py\u001b\\\u001b[2mstep_wrapper.py\u001b[0m\u001b]8;;\u001b\\\u001b[2m:\u001b[0m\u001b]8;id=686768;file:///usr/local/lib/python3.10/dist-packages/distilabel/pipeline/step_wrapper.py#274\u001b\\\u001b[2m274\u001b[0m\u001b]8;;\u001b\\\n",
       "\u001b[2;36m                    \u001b[0m         batch \u001b[1;36m0\u001b[0m to output queue                                            \u001b[2m                   \u001b[0m\n"
      ]
     },
     "metadata": {},
     "output_type": "display_data"
    },
    {
     "data": {
      "text/html": [
       "<pre style=\"white-space:pre;overflow-x:auto;line-height:normal;font-family:Menlo,'DejaVu Sans Mono',consolas,'Courier New',monospace\"><span style=\"color: #7fbfbf; text-decoration-color: #7fbfbf\">                    </span><span style=\"color: #000080; text-decoration-color: #000080\">INFO    </span> <span style=\"font-weight: bold\">[</span><span style=\"color: #008000; text-decoration-color: #008000\">'distilabel.step.synthesizer'</span><span style=\"font-weight: bold\">]</span> 🏁 Finished running step           <a href=\"file:///usr/local/lib/python3.10/dist-packages/distilabel/pipeline/step_wrapper.py\" target=\"_blank\"><span style=\"color: #7f7f7f; text-decoration-color: #7f7f7f\">step_wrapper.py</span></a><span style=\"color: #7f7f7f; text-decoration-color: #7f7f7f\">:</span><a href=\"file:///usr/local/lib/python3.10/dist-packages/distilabel/pipeline/step_wrapper.py#127\" target=\"_blank\"><span style=\"color: #7f7f7f; text-decoration-color: #7f7f7f\">127</span></a>\n",
       "<span style=\"color: #7fbfbf; text-decoration-color: #7fbfbf\">                    </span>         <span style=\"color: #008000; text-decoration-color: #008000\">'synthesizer'</span> <span style=\"font-weight: bold\">(</span>replica ID: <span style=\"color: #008080; text-decoration-color: #008080; font-weight: bold\">0</span><span style=\"font-weight: bold\">)</span>                                      <span style=\"color: #7f7f7f; text-decoration-color: #7f7f7f\">                   </span>\n",
       "</pre>\n"
      ],
      "text/plain": [
       "\u001b[2;36m                   \u001b[0m\u001b[2;36m \u001b[0m\u001b[34mINFO    \u001b[0m \u001b[1m[\u001b[0m\u001b[32m'distilabel.step.synthesizer'\u001b[0m\u001b[1m]\u001b[0m 🏁 Finished running step           \u001b]8;id=908863;file:///usr/local/lib/python3.10/dist-packages/distilabel/pipeline/step_wrapper.py\u001b\\\u001b[2mstep_wrapper.py\u001b[0m\u001b]8;;\u001b\\\u001b[2m:\u001b[0m\u001b]8;id=450181;file:///usr/local/lib/python3.10/dist-packages/distilabel/pipeline/step_wrapper.py#127\u001b\\\u001b[2m127\u001b[0m\u001b]8;;\u001b\\\n",
       "\u001b[2;36m                    \u001b[0m         \u001b[32m'synthesizer'\u001b[0m \u001b[1m(\u001b[0mreplica ID: \u001b[1;36m0\u001b[0m\u001b[1m)\u001b[0m                                      \u001b[2m                   \u001b[0m\n"
      ]
     },
     "metadata": {},
     "output_type": "display_data"
    },
    {
     "data": {
      "application/vnd.jupyter.widget-view+json": {
       "model_id": "54116c59e2824b419704fc031c099fe2",
       "version_major": 2,
       "version_minor": 0
      },
      "text/plain": [
       "Generating train split: 0 examples [00:00, ? examples/s]"
      ]
     },
     "metadata": {},
     "output_type": "display_data"
    }
   ],
   "source": [
    "distiset = pipeline.run(\n",
    "    parameters={\n",
    "        load_data_from_hub.name: {\n",
    "            'repo_id': \"ahsanirfan961/title-content-dataset\",\n",
    "            \"split\": \"train\"\n",
    "        },\n",
    "    },\n",
    ")"
   ]
  },
  {
   "cell_type": "code",
   "execution_count": 20,
   "metadata": {},
   "outputs": [
    {
     "name": "stdout",
     "output_type": "stream",
     "text": [
      "Distiset({\n",
      "    default: DatasetDict({\n",
      "        train: Dataset({\n",
      "            features: ['text', 'instruction', 'response'],\n",
      "            num_rows: 46\n",
      "        })\n",
      "    })\n",
      "})\n"
     ]
    }
   ],
   "source": [
    "print(distiset)"
   ]
  },
  {
   "cell_type": "code",
   "execution_count": 21,
   "metadata": {},
   "outputs": [
    {
     "name": "stdout",
     "output_type": "stream",
     "text": [
      "                                                 text  \\\n",
      "0   a us navy transport plane carrying  people cra...   \n",
      "1   a us navy transport plane carrying  people cra...   \n",
      "2   a us navy transport plane carrying  people cra...   \n",
      "3   a us navy transport plane carrying  people cra...   \n",
      "4   a us navy transport plane carrying  people cra...   \n",
      "5   a us navy transport plane carrying  people cra...   \n",
      "6   a us navy transport plane carrying  people cra...   \n",
      "7   a us navy transport plane carrying  people cra...   \n",
      "8   zimbabwe s former vice president emmerson mnan...   \n",
      "9   the mayor and police chief of cleveland next w...   \n",
      "10  the mayor and police chief of cleveland next w...   \n",
      "11  the mayor and police chief of cleveland next w...   \n",
      "12  the mayor and police chief of cleveland next w...   \n",
      "13  the mayor and police chief of cleveland next w...   \n",
      "14  the mayor and police chief of cleveland next w...   \n",
      "15  the mayor and police chief of cleveland next w...   \n",
      "16  the mayor and police chief of cleveland next w...   \n",
      "17  the mayor and police chief of cleveland next w...   \n",
      "18  the mayor and police chief of cleveland next w...   \n",
      "19  the mayor and police chief of cleveland next w...   \n",
      "20  the mayor and police chief of cleveland next w...   \n",
      "21  the mayor and police chief of cleveland next w...   \n",
      "22  the mayor and police chief of cleveland next w...   \n",
      "23  the ranking democrat on the us senate subcommi...   \n",
      "24  the ranking democrat on the us senate subcommi...   \n",
      "25  the ranking democrat on the us senate subcommi...   \n",
      "26  the ranking democrat on the us senate subcommi...   \n",
      "27  the ranking democrat on the us senate subcommi...   \n",
      "28  the ranking democrat on the us senate subcommi...   \n",
      "29  president donald trump’s push to fulfill a cam...   \n",
      "30  president donald trump’s push to fulfill a cam...   \n",
      "31  president donald trump’s push to fulfill a cam...   \n",
      "32  president donald trump’s push to fulfill a cam...   \n",
      "33  the white house on sunday defended its impleme...   \n",
      "34  the white house on sunday defended its impleme...   \n",
      "35  the white house on sunday defended its impleme...   \n",
      "36  the white house on sunday defended its impleme...   \n",
      "37  us president donald trump invited senate democ...   \n",
      "38  us president donald trump invited senate democ...   \n",
      "39  us president donald trump invited senate democ...   \n",
      "40  a usfunded famine survey said on tuesday that ...   \n",
      "41  a usfunded famine survey said on tuesday that ...   \n",
      "42  a usfunded famine survey said on tuesday that ...   \n",
      "43  a usfunded famine survey said on tuesday that ...   \n",
      "44  qatar s foreign minister said on wednesday us ...   \n",
      "45  qatar s foreign minister said on wednesday us ...   \n",
      "\n",
      "                                          instruction  \\\n",
      "0        where did the us navy transport plane crash?   \n",
      "1                        how many people are missing?   \n",
      "2                       how many people were rescued?   \n",
      "3             what will happen to the missing people?   \n",
      "4    what is the name of the us navy transport plane?   \n",
      "5         how many crashes have there been this year?   \n",
      "6   how many people were rescued and transferred t...   \n",
      "7               what is the number of people missing?   \n",
      "8   when is he due to be sworn in?\\nLet's think st...   \n",
      "9                     what is cleveland preparing for   \n",
      "10                             when is the convention   \n",
      "11                           what has been criticized   \n",
      "12                who has criticized the preparations   \n",
      "13                            who is the police chief   \n",
      "14                      what will the police withhold   \n",
      "15                 why will they withhold information   \n",
      "16                 how many officers will be assigned   \n",
      "17                             what did the mayor say   \n",
      "18                              what has been accused   \n",
      "19            how many demonstrations have there been   \n",
      "20                        when are the demonstrations   \n",
      "21                what happened at the demonstrations   \n",
      "22                                   who is the mayor   \n",
      "23                  what does a federal law call for?   \n",
      "24        how many states are not following this law?   \n",
      "25                              what does casey want?   \n",
      "26                               who is robert casey?   \n",
      "27                                   from what state?   \n",
      "28                             what does the law say?   \n",
      "29  what is the foundation's opinion regarding sta...   \n",
      "30  what is the reason for the potential repeal of...   \n",
      "31          why is there a push to replace obamacare?   \n",
      "32           what would the block grants be used for?   \n",
      "33                     how many people were detained?   \n",
      "34               how many people remain in detention?   \n",
      "35  what is the number of people that remain in de...   \n",
      "36  how many people were detained when they entere...   \n",
      "37                       who did donald trump invite?   \n",
      "38  who did president donald trump invite to dine ...   \n",
      "39  what is the name of the act that would protect...   \n",
      "40            what is the risk of a cholera epidemic?   \n",
      "41  who is funding the famine early warning system...   \n",
      "42         how long will it take for famine to occur?   \n",
      "43  what is the name of the organization that fund...   \n",
      "44        who called the move a dangerous escalation?   \n",
      "45  what did sheikh mohammed bin abdulrahman altha...   \n",
      "\n",
      "                                             response  \n",
      "0                       philippine sea south of japan  \n",
      "1                                               three  \n",
      "2                                               eight  \n",
      "3                  search and rescue efforts continue  \n",
      "4                                           greyhound  \n",
      "5                                                 two  \n",
      "6                                               eight  \n",
      "7                                               three  \n",
      "8   zimbabwe s former vice president emmerson mnan...  \n",
      "9                  the republican national convention  \n",
      "10                                               july  \n",
      "11                        aspects of the preparations  \n",
      "12            a civil rights group and a police union  \n",
      "13                                    calvin williams  \n",
      "14                                certain information  \n",
      "15  to stymie anyone seeking to disrupt the conven...  \n",
      "16                                            unknown  \n",
      "17    comprehensive overview of security preparations  \n",
      "18  the city of taking too long to issue permits t...  \n",
      "19                                            intense  \n",
      "20                                  at campaign stops  \n",
      "21  resulted in violence between his supporters an...  \n",
      "22                                      frank jackson  \n",
      "23  calls on states to require that healthcare wor...  \n",
      "24  reuters found that no more than nine states an...  \n",
      "25  a congressional watchdog agency to investigate...  \n",
      "26                                            senator  \n",
      "27                                       pennsylvania  \n",
      "28  federal law calls on states to require that he...  \n",
      "29  the kaiser family foundation estimates a repea...  \n",
      "30  president donald trump’s push to fulfill a cam...  \n",
      "31  obamacare formally known as the affordable car...  \n",
      "32  the kaiser family foundation estimates a repea...  \n",
      "33                                          two dozen  \n",
      "34                                     a couple dozen  \n",
      "35                                          two dozen  \n",
      "36                                          two dozen  \n",
      "37  senate democratic leader chuck schumer and hou...  \n",
      "38  senate democratic leader chuck schumer and hou...  \n",
      "39                                          dream act  \n",
      "40                           no access to clean water  \n",
      "41            us agency for international development  \n",
      "42                               three or four months  \n",
      "43                                           fews net  \n",
      "44                           qatar's foreign ministry  \n",
      "45                             a dangerous escalation  \n"
     ]
    }
   ],
   "source": [
    "print(distiset['default']['train'].to_pandas())"
   ]
  },
  {
   "cell_type": "code",
   "execution_count": 13,
   "metadata": {},
   "outputs": [
    {
     "name": "stdout",
     "output_type": "stream",
     "text": [
      "What type of energy does the author likely advocate for?\n",
      "Options:\n",
      "- wind energy\n",
      "- solar energy\n",
      "- no energy\n",
      "- hydroelectric energy\n",
      "- fossil fuels\n",
      "- kinetic energy\n",
      "- nuclear energy\n",
      "- coal energy\n",
      "Let's think step by step.\n"
     ]
    }
   ],
   "source": [
    "print(distiset['default']['train'].to_pandas()['instruction'][0])"
   ]
  },
  {
   "cell_type": "code",
   "execution_count": 14,
   "metadata": {},
   "outputs": [
    {
     "name": "stdout",
     "output_type": "stream",
     "text": [
      "Renewable energy sources such as solar, wind, and hydroelectric power are becoming increasingly important in the fight against climate change. These energy sources produce little to no greenhouse gas emissions, making them environmentally friendly alternatives to fossil fuels.\n",
      "Therefore, the answer is solar energy\n"
     ]
    }
   ],
   "source": [
    "print(distiset['default']['train'].to_pandas()['response'][0])"
   ]
  },
  {
   "cell_type": "code",
   "execution_count": null,
   "metadata": {},
   "outputs": [],
   "source": []
  }
 ],
 "metadata": {
  "kernelspec": {
   "display_name": "Python 3 (ipykernel)",
   "language": "python",
   "name": "python3"
  },
  "language_info": {
   "codemirror_mode": {
    "name": "ipython",
    "version": 3
   },
   "file_extension": ".py",
   "mimetype": "text/x-python",
   "name": "python",
   "nbconvert_exporter": "python",
   "pygments_lexer": "ipython3",
   "version": "3.10.11"
  }
 },
 "nbformat": 4,
 "nbformat_minor": 4
}
